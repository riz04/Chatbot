{
 "cells": [
  {
   "cell_type": "code",
   "execution_count": 56,
   "metadata": {},
   "outputs": [],
   "source": [
    "# part 1\n",
    "import pickle\n",
    "import numpy as np"
   ]
  },
  {
   "cell_type": "code",
   "execution_count": 57,
   "metadata": {},
   "outputs": [],
   "source": [
    "with open(\"./004 UPDATED-NLP-COURSE/UPDATED_NLP_COURSE/06-Deep-Learning/train_qa.txt\" , \"rb\") as f:\n",
    "    train_data = pickle.load(f)"
   ]
  },
  {
   "cell_type": "code",
   "execution_count": 58,
   "metadata": {},
   "outputs": [],
   "source": [
    "with open(\"./004 UPDATED-NLP-COURSE/UPDATED_NLP_COURSE/06-Deep-Learning/test_qa.txt\" , \"rb\") as f:\n",
    "    test_data = pickle.load(f)"
   ]
  },
  {
   "cell_type": "code",
   "execution_count": 59,
   "metadata": {},
   "outputs": [
    {
     "data": {
      "text/plain": [
       "list"
      ]
     },
     "execution_count": 59,
     "metadata": {},
     "output_type": "execute_result"
    }
   ],
   "source": [
    "type(test_data)"
   ]
  },
  {
   "cell_type": "code",
   "execution_count": 60,
   "metadata": {},
   "outputs": [
    {
     "data": {
      "text/plain": [
       "10000"
      ]
     },
     "execution_count": 60,
     "metadata": {},
     "output_type": "execute_result"
    }
   ],
   "source": [
    "len(train_data)"
   ]
  },
  {
   "cell_type": "code",
   "execution_count": 61,
   "metadata": {},
   "outputs": [
    {
     "data": {
      "text/plain": [
       "1000"
      ]
     },
     "execution_count": 61,
     "metadata": {},
     "output_type": "execute_result"
    }
   ],
   "source": [
    "len(test_data)"
   ]
  },
  {
   "cell_type": "code",
   "execution_count": 62,
   "metadata": {},
   "outputs": [
    {
     "data": {
      "text/plain": [
       "(['Mary',\n",
       "  'moved',\n",
       "  'to',\n",
       "  'the',\n",
       "  'bathroom',\n",
       "  '.',\n",
       "  'Sandra',\n",
       "  'journeyed',\n",
       "  'to',\n",
       "  'the',\n",
       "  'bedroom',\n",
       "  '.'],\n",
       " ['Is', 'Sandra', 'in', 'the', 'hallway', '?'],\n",
       " 'no')"
      ]
     },
     "execution_count": 62,
     "metadata": {},
     "output_type": "execute_result"
    }
   ],
   "source": [
    "train_data[0]"
   ]
  },
  {
   "cell_type": "code",
   "execution_count": 63,
   "metadata": {},
   "outputs": [
    {
     "data": {
      "text/plain": [
       "'Mary moved to the bathroom . Sandra journeyed to the bedroom .'"
      ]
     },
     "execution_count": 63,
     "metadata": {},
     "output_type": "execute_result"
    }
   ],
   "source": [
    "# story\n",
    "\" \".join(train_data[0][0])"
   ]
  },
  {
   "cell_type": "code",
   "execution_count": 64,
   "metadata": {},
   "outputs": [
    {
     "data": {
      "text/plain": [
       "'Is Sandra in the hallway ?'"
      ]
     },
     "execution_count": 64,
     "metadata": {},
     "output_type": "execute_result"
    }
   ],
   "source": [
    "# question\n",
    "\" \".join(train_data[0][1])"
   ]
  },
  {
   "cell_type": "code",
   "execution_count": 65,
   "metadata": {},
   "outputs": [
    {
     "data": {
      "text/plain": [
       "'no'"
      ]
     },
     "execution_count": 65,
     "metadata": {},
     "output_type": "execute_result"
    }
   ],
   "source": [
    "# answer\n",
    "\"\".join(train_data[0][2])"
   ]
  },
  {
   "cell_type": "code",
   "execution_count": 66,
   "metadata": {},
   "outputs": [],
   "source": [
    "# to begin with, we need to set up a vocabulary of all the words we have in our dataset\n",
    "# we need to get in account both train and test data"
   ]
  },
  {
   "cell_type": "code",
   "execution_count": 67,
   "metadata": {},
   "outputs": [],
   "source": [
    "all_data = train_data + test_data"
   ]
  },
  {
   "cell_type": "code",
   "execution_count": 68,
   "metadata": {},
   "outputs": [
    {
     "data": {
      "text/plain": [
       "11000"
      ]
     },
     "execution_count": 68,
     "metadata": {},
     "output_type": "execute_result"
    }
   ],
   "source": [
    "len(all_data)"
   ]
  },
  {
   "cell_type": "code",
   "execution_count": 69,
   "metadata": {},
   "outputs": [],
   "source": [
    "vocab = set()\n",
    "\n",
    "for story,question,answer in all_data:\n",
    "   \n",
    "    vocab = vocab.union(set(story))\n",
    "    vocab = vocab.union(set(question))"
   ]
  },
  {
   "cell_type": "code",
   "execution_count": 70,
   "metadata": {},
   "outputs": [],
   "source": [
    "vocab.add(\"no\")"
   ]
  },
  {
   "cell_type": "code",
   "execution_count": 71,
   "metadata": {},
   "outputs": [],
   "source": [
    "vocab.add(\"yes\")"
   ]
  },
  {
   "cell_type": "code",
   "execution_count": 72,
   "metadata": {},
   "outputs": [
    {
     "data": {
      "text/plain": [
       "{'.',\n",
       " '?',\n",
       " 'Daniel',\n",
       " 'Is',\n",
       " 'John',\n",
       " 'Mary',\n",
       " 'Sandra',\n",
       " 'apple',\n",
       " 'back',\n",
       " 'bathroom',\n",
       " 'bedroom',\n",
       " 'discarded',\n",
       " 'down',\n",
       " 'dropped',\n",
       " 'football',\n",
       " 'garden',\n",
       " 'got',\n",
       " 'grabbed',\n",
       " 'hallway',\n",
       " 'in',\n",
       " 'journeyed',\n",
       " 'kitchen',\n",
       " 'left',\n",
       " 'milk',\n",
       " 'moved',\n",
       " 'no',\n",
       " 'office',\n",
       " 'picked',\n",
       " 'put',\n",
       " 'the',\n",
       " 'there',\n",
       " 'to',\n",
       " 'took',\n",
       " 'travelled',\n",
       " 'up',\n",
       " 'went',\n",
       " 'yes'}"
      ]
     },
     "execution_count": 72,
     "metadata": {},
     "output_type": "execute_result"
    }
   ],
   "source": [
    "vocab"
   ]
  },
  {
   "cell_type": "code",
   "execution_count": 73,
   "metadata": {},
   "outputs": [],
   "source": [
    "# adding 1, bcz later on when we perform keras sequences we have little placeholder\n",
    "vocab_len = len(vocab) + 1"
   ]
  },
  {
   "cell_type": "code",
   "execution_count": 74,
   "metadata": {},
   "outputs": [
    {
     "data": {
      "text/plain": [
       "38"
      ]
     },
     "execution_count": 74,
     "metadata": {},
     "output_type": "execute_result"
    }
   ],
   "source": [
    "vocab_len"
   ]
  },
  {
   "cell_type": "code",
   "execution_count": 75,
   "metadata": {},
   "outputs": [],
   "source": [
    "# how long is the longest story"
   ]
  },
  {
   "cell_type": "code",
   "execution_count": 76,
   "metadata": {},
   "outputs": [],
   "source": [
    "all_story_lens = [len(data[0]) for data in all_data]"
   ]
  },
  {
   "cell_type": "code",
   "execution_count": 77,
   "metadata": {},
   "outputs": [],
   "source": [
    "max_story_len = max(all_story_lens)"
   ]
  },
  {
   "cell_type": "code",
   "execution_count": 78,
   "metadata": {},
   "outputs": [
    {
     "data": {
      "text/plain": [
       "156"
      ]
     },
     "execution_count": 78,
     "metadata": {},
     "output_type": "execute_result"
    }
   ],
   "source": [
    "max_story_len"
   ]
  },
  {
   "cell_type": "code",
   "execution_count": 79,
   "metadata": {},
   "outputs": [],
   "source": [
    "# how long is the longest question"
   ]
  },
  {
   "cell_type": "code",
   "execution_count": 80,
   "metadata": {},
   "outputs": [],
   "source": [
    "all_questions_lens = [len(data[1]) for data in all_data]"
   ]
  },
  {
   "cell_type": "code",
   "execution_count": 81,
   "metadata": {},
   "outputs": [],
   "source": [
    "max_ques_len = max(all_questions_lens)"
   ]
  },
  {
   "cell_type": "code",
   "execution_count": 82,
   "metadata": {},
   "outputs": [
    {
     "data": {
      "text/plain": [
       "6"
      ]
     },
     "execution_count": 82,
     "metadata": {},
     "output_type": "execute_result"
    }
   ],
   "source": [
    "max_ques_len"
   ]
  },
  {
   "cell_type": "code",
   "execution_count": 83,
   "metadata": {},
   "outputs": [],
   "source": [
    "# review\n",
    "# we explored the data\n",
    "# opened it up using pickle functionality\n",
    "# saw, that data is in the form of list\n",
    "# where every item is in the form of tuple\n",
    "# built out a vocabulary using set\n",
    "# using union we kept adding words, until we got all unique words\n",
    "# and then we calculated max story length and max question length\n",
    "# we are gonna use it in keras pad sequences, once we vectorize the data"
   ]
  },
  {
   "cell_type": "code",
   "execution_count": 84,
   "metadata": {},
   "outputs": [],
   "source": [
    "# part 2\n",
    "# how to vectorize the data\n",
    "# create a function that can vectorize data for us"
   ]
  },
  {
   "cell_type": "code",
   "execution_count": 85,
   "metadata": {},
   "outputs": [],
   "source": [
    "from keras.preprocessing.sequence import pad_sequences\n",
    "from keras.preprocessing.text import Tokenizer"
   ]
  },
  {
   "cell_type": "code",
   "execution_count": 86,
   "metadata": {},
   "outputs": [],
   "source": [
    "# create an integer encoding for the sequences of words"
   ]
  },
  {
   "cell_type": "code",
   "execution_count": 87,
   "metadata": {},
   "outputs": [],
   "source": [
    "tokenizer = Tokenizer(filters = [])\n",
    "tokenizer.fit_on_texts(vocab)"
   ]
  },
  {
   "cell_type": "code",
   "execution_count": 88,
   "metadata": {},
   "outputs": [
    {
     "data": {
      "text/plain": [
       "{'took': 1,\n",
       " 'mary': 2,\n",
       " 'apple': 3,\n",
       " 'the': 4,\n",
       " 'bedroom': 5,\n",
       " 'moved': 6,\n",
       " 'travelled': 7,\n",
       " 'left': 8,\n",
       " 'no': 9,\n",
       " 'up': 10,\n",
       " 'garden': 11,\n",
       " 'daniel': 12,\n",
       " 'back': 13,\n",
       " 'kitchen': 14,\n",
       " 'dropped': 15,\n",
       " 'office': 16,\n",
       " '.': 17,\n",
       " 'hallway': 18,\n",
       " 'down': 19,\n",
       " 'football': 20,\n",
       " 'journeyed': 21,\n",
       " 'is': 22,\n",
       " '?': 23,\n",
       " 'put': 24,\n",
       " 'in': 25,\n",
       " 'milk': 26,\n",
       " 'yes': 27,\n",
       " 'sandra': 28,\n",
       " 'john': 29,\n",
       " 'went': 30,\n",
       " 'got': 31,\n",
       " 'bathroom': 32,\n",
       " 'picked': 33,\n",
       " 'discarded': 34,\n",
       " 'grabbed': 35,\n",
       " 'there': 36,\n",
       " 'to': 37}"
      ]
     },
     "execution_count": 88,
     "metadata": {},
     "output_type": "execute_result"
    }
   ],
   "source": [
    "tokenizer.word_index"
   ]
  },
  {
   "cell_type": "code",
   "execution_count": 89,
   "metadata": {},
   "outputs": [],
   "source": [
    "# how we can vectorize story, question, answer in manual fashion"
   ]
  },
  {
   "cell_type": "code",
   "execution_count": 90,
   "metadata": {},
   "outputs": [],
   "source": [
    "train_story_text = []\n",
    "train_question_text = []\n",
    "train_answers = []"
   ]
  },
  {
   "cell_type": "code",
   "execution_count": 91,
   "metadata": {},
   "outputs": [],
   "source": [
    "for story,question,answer in train_data:\n",
    "    train_story_text.append(story)\n",
    "    train_question_text.append(question)\n",
    "    train_answers.append(answer)"
   ]
  },
  {
   "cell_type": "code",
   "execution_count": 92,
   "metadata": {},
   "outputs": [],
   "source": [
    "train_story_seq = tokenizer.texts_to_sequences(train_story_text)"
   ]
  },
  {
   "cell_type": "code",
   "execution_count": 97,
   "metadata": {},
   "outputs": [
    {
     "data": {
      "text/plain": [
       "10000"
      ]
     },
     "execution_count": 97,
     "metadata": {},
     "output_type": "execute_result"
    }
   ],
   "source": [
    "len(train_story_text)"
   ]
  },
  {
   "cell_type": "code",
   "execution_count": 110,
   "metadata": {},
   "outputs": [
    {
     "data": {
      "text/plain": [
       "10000"
      ]
     },
     "execution_count": 110,
     "metadata": {},
     "output_type": "execute_result"
    }
   ],
   "source": [
    "len(train_story_seq)"
   ]
  },
  {
   "cell_type": "code",
   "execution_count": 98,
   "metadata": {},
   "outputs": [],
   "source": [
    "# let's create a function which can help us vectorize the text"
   ]
  },
  {
   "cell_type": "code",
   "execution_count": 114,
   "metadata": {},
   "outputs": [],
   "source": [
    "# we need to pass max_story_len and max_question_len\n",
    "# bcz, we are going to use padding sequences\n",
    "# not every story and not every question is the same length\n",
    "# but, the actual RNN we are training on, it needs  things to be in same length\n",
    "# so, we will pad it up wit zeros, in case some story is too short\n",
    "# or we want to cut down a story, if its too long\n",
    "\n",
    "def vectorize_stories(data,word_index=tokenizer.word_index,max_story_len = max_story_len,max_ques_len = max_ques_len):\n",
    "    \n",
    "    # stories\n",
    "    X = []\n",
    "    # questions\n",
    "    Xq = []\n",
    "    # correct answer(yes/no)\n",
    "    Y = []\n",
    "    \n",
    "    for story,question,answer in data:\n",
    "        \n",
    "        # for each story in dataset\n",
    "        x = [word_index[word.lower()] for word in story]\n",
    "    \n",
    "        xq = [word_index[word.lower()] for word in question]\n",
    "        \n",
    "        # plus 1, bcz index 0 is reserved when we use pad sequences\n",
    "        y = np.zeros(len(word_index) + 1)\n",
    "        y[word_index[answer]] = 1\n",
    "        \n",
    "        \n",
    "        X.append(x)\n",
    "        Xq.append(xq)\n",
    "        Y.append(y)\n",
    "        \n",
    "    return (pad_sequences(X,maxlen= max_story_len), pad_sequences(Xq,maxlen = max_ques_len), np.array(Y))"
   ]
  },
  {
   "cell_type": "code",
   "execution_count": 115,
   "metadata": {},
   "outputs": [],
   "source": [
    "inputs_train, questions_train, answers_train = vectorize_stories(train_data)"
   ]
  },
  {
   "cell_type": "code",
   "execution_count": 116,
   "metadata": {},
   "outputs": [],
   "source": [
    "inputs_test, questions_test, answers_test = vectorize_stories(test_data)"
   ]
  },
  {
   "cell_type": "code",
   "execution_count": 117,
   "metadata": {},
   "outputs": [
    {
     "data": {
      "text/plain": [
       "array([[ 0,  0,  0, ...,  4,  5, 17],\n",
       "       [ 0,  0,  0, ...,  4, 11, 17],\n",
       "       [ 0,  0,  0, ...,  4, 11, 17],\n",
       "       ...,\n",
       "       [ 0,  0,  0, ...,  4,  3, 17],\n",
       "       [ 0,  0,  0, ...,  4, 11, 17],\n",
       "       [ 0,  0,  0, ...,  3, 36, 17]], dtype=int32)"
      ]
     },
     "execution_count": 117,
     "metadata": {},
     "output_type": "execute_result"
    }
   ],
   "source": [
    "inputs_test"
   ]
  },
  {
   "cell_type": "code",
   "execution_count": 118,
   "metadata": {},
   "outputs": [
    {
     "data": {
      "text/plain": [
       "array([[0., 0., 0., ..., 0., 0., 0.],\n",
       "       [0., 0., 0., ..., 0., 0., 0.],\n",
       "       [0., 0., 0., ..., 0., 0., 0.],\n",
       "       ...,\n",
       "       [0., 0., 0., ..., 0., 0., 0.],\n",
       "       [0., 0., 0., ..., 0., 0., 0.],\n",
       "       [0., 0., 0., ..., 0., 0., 0.]])"
      ]
     },
     "execution_count": 118,
     "metadata": {},
     "output_type": "execute_result"
    }
   ],
   "source": [
    "answers_train"
   ]
  },
  {
   "cell_type": "code",
   "execution_count": 133,
   "metadata": {},
   "outputs": [
    {
     "data": {
      "text/plain": [
       "9"
      ]
     },
     "execution_count": 133,
     "metadata": {},
     "output_type": "execute_result"
    }
   ],
   "source": [
    "tokenizer.word_index[\"no\"]"
   ]
  },
  {
   "cell_type": "code",
   "execution_count": 134,
   "metadata": {},
   "outputs": [
    {
     "data": {
      "text/plain": [
       "27"
      ]
     },
     "execution_count": 134,
     "metadata": {},
     "output_type": "execute_result"
    }
   ],
   "source": [
    "tokenizer.word_index[\"yes\"]"
   ]
  },
  {
   "cell_type": "code",
   "execution_count": 135,
   "metadata": {},
   "outputs": [
    {
     "data": {
      "text/plain": [
       "array([  0.,   0.,   0.,   0.,   0.,   0.,   0.,   0.,   0., 503.,   0.,\n",
       "         0.,   0.,   0.,   0.,   0.,   0.,   0.,   0.,   0.,   0.,   0.,\n",
       "         0.,   0.,   0.,   0.,   0., 497.,   0.,   0.,   0.,   0.,   0.,\n",
       "         0.,   0.,   0.,   0.,   0.])"
      ]
     },
     "execution_count": 135,
     "metadata": {},
     "output_type": "execute_result"
    }
   ],
   "source": [
    "# there are 503 1's at index location 9, or 503 no's\n",
    "# there are 497 1's at index location 27, or 497 yes's\n",
    "sum(answers_test)"
   ]
  },
  {
   "cell_type": "code",
   "execution_count": 138,
   "metadata": {},
   "outputs": [],
   "source": [
    "# we have successfully vectorized our stories, questions and answers\n",
    "# now we have data in the correct format for creating the model with keras layers\n"
   ]
  },
  {
   "cell_type": "code",
   "execution_count": 139,
   "metadata": {},
   "outputs": [],
   "source": [
    "# part 3\n",
    "# building neural network\n",
    "# - input encoder M\n",
    "# - input encoder C\n",
    "# - Question Encoder\n"
   ]
  },
  {
   "cell_type": "code",
   "execution_count": 140,
   "metadata": {},
   "outputs": [],
   "source": [
    "from keras.models import Sequential,Model"
   ]
  },
  {
   "cell_type": "code",
   "execution_count": 141,
   "metadata": {},
   "outputs": [],
   "source": [
    "from keras.layers.embeddings import Embedding"
   ]
  },
  {
   "cell_type": "code",
   "execution_count": 143,
   "metadata": {},
   "outputs": [],
   "source": [
    "from keras.layers import Input,Activation,Dense,Permute,Dropout,add,dot,concatenate,LSTM"
   ]
  },
  {
   "cell_type": "code",
   "execution_count": 145,
   "metadata": {},
   "outputs": [],
   "source": [
    "# we have story that encoder needs to understand\n",
    "# we need to map and story and question to achive the results\n",
    "# we will create placeholders using input functions of keras\n"
   ]
  },
  {
   "cell_type": "code",
   "execution_count": 156,
   "metadata": {},
   "outputs": [],
   "source": [
    "# we are creating placeholders to recive input\n",
    "# placeholder shape = (max_story_len , batch_size)\n",
    "input_sequence = Input((max_story_len,))\n",
    "question1 = Input((max_ques_len,))"
   ]
  },
  {
   "cell_type": "code",
   "execution_count": 157,
   "metadata": {},
   "outputs": [],
   "source": [
    "vocab_size = len(vocab) + 1"
   ]
  },
  {
   "cell_type": "code",
   "execution_count": 158,
   "metadata": {},
   "outputs": [],
   "source": [
    "# INPUT ENCODER M\n",
    "# this input gets embedded, to a sequence of vectors"
   ]
  },
  {
   "cell_type": "code",
   "execution_count": 159,
   "metadata": {},
   "outputs": [],
   "source": [
    "input_encoder_m = Sequential()\n",
    "input_encoder_m.add(Embedding(input_dim = vocab_size , output_dim = 64))\n",
    "input_encoder_m.add(Dropout(0.3))\n",
    "\n",
    "# dropout = o.5 means that 50% of the neurons will be dropped out randomly during training\n",
    "# and that helps with overfitting\n",
    "\n",
    "# this encoder is going to output in the form of \n",
    "# (samples, story_maxlen, embedding_dim)"
   ]
  },
  {
   "cell_type": "code",
   "execution_count": 160,
   "metadata": {},
   "outputs": [],
   "source": [
    "# INPUT ENCODER C\n",
    "input_encoder_c = Sequential()\n",
    "input_encoder_c.add(Embedding(input_dim = vocab_size , output_dim = max_ques_len))\n",
    "input_encoder_c.add(Dropout(0.3))\n",
    "\n",
    "# this encoder is going to output in the form of \n",
    "# (samples, story_maxlen, max_question_len)"
   ]
  },
  {
   "cell_type": "code",
   "execution_count": 161,
   "metadata": {},
   "outputs": [],
   "source": [
    "question_encoder= Sequential()\n",
    "question_encoder.add(Embedding(input_dim = vocab_size , output_dim = 64, input_length = max_ques_len))\n",
    "question_encoder.add(Dropout(0.3))\n",
    "\n",
    "# (samples,question_maxlen,embedding_dim)"
   ]
  },
  {
   "cell_type": "code",
   "execution_count": 163,
   "metadata": {},
   "outputs": [],
   "source": [
    "# encoded <-- encoder(input)\n",
    "input_encoded_m = input_encoder_m(input_sequence)\n",
    "input_encoded_c = input_encoder_c(input_sequence)\n",
    "question_encoded = question_encoder(question1)"
   ]
  },
  {
   "cell_type": "code",
   "execution_count": 164,
   "metadata": {},
   "outputs": [],
   "source": [
    "match = dot([input_encoded_m,question_encoded],axes = (2,2))\n",
    "match = Activation(\"softmax\")(match)"
   ]
  },
  {
   "cell_type": "code",
   "execution_count": 165,
   "metadata": {},
   "outputs": [],
   "source": [
    "response = add([match , input_encoded_c])\n",
    "response = Permute((2,1))(response)"
   ]
  },
  {
   "cell_type": "code",
   "execution_count": 167,
   "metadata": {},
   "outputs": [],
   "source": [
    "answer = concatenate([response,question_encoded])"
   ]
  },
  {
   "cell_type": "code",
   "execution_count": 168,
   "metadata": {},
   "outputs": [
    {
     "data": {
      "text/plain": [
       "<tf.Tensor 'concatenate_2/concat:0' shape=(?, 6, 220) dtype=float32>"
      ]
     },
     "execution_count": 168,
     "metadata": {},
     "output_type": "execute_result"
    }
   ],
   "source": [
    "answer"
   ]
  },
  {
   "cell_type": "code",
   "execution_count": 169,
   "metadata": {},
   "outputs": [],
   "source": [
    "answer = LSTM(32)(answer)"
   ]
  },
  {
   "cell_type": "code",
   "execution_count": 170,
   "metadata": {},
   "outputs": [],
   "source": [
    "answer = Dropout(0.5)(answer)\n",
    "answer = Dense(vocab_size)(answer)   #(samples, vocab_size)  Yes/No 0000"
   ]
  },
  {
   "cell_type": "code",
   "execution_count": 171,
   "metadata": {},
   "outputs": [],
   "source": [
    "answer = Activation(\"softmax\")(answer)"
   ]
  },
  {
   "cell_type": "code",
   "execution_count": 173,
   "metadata": {},
   "outputs": [],
   "source": [
    "# answer links together all the encoders\n",
    "model = Model([input_sequence,question1],answer)"
   ]
  },
  {
   "cell_type": "code",
   "execution_count": 175,
   "metadata": {},
   "outputs": [],
   "source": [
    "model.compile(optimizer=\"rmsprop\" , loss = \"categorical_crossentropy\" ,metrics = [\"accuracy\"])"
   ]
  },
  {
   "cell_type": "code",
   "execution_count": 176,
   "metadata": {},
   "outputs": [
    {
     "name": "stdout",
     "output_type": "stream",
     "text": [
      "__________________________________________________________________________________________________\n",
      "Layer (type)                    Output Shape         Param #     Connected to                     \n",
      "==================================================================================================\n",
      "input_2 (InputLayer)            (None, 156)          0                                            \n",
      "__________________________________________________________________________________________________\n",
      "input_3 (InputLayer)            (None, 6)            0                                            \n",
      "__________________________________________________________________________________________________\n",
      "sequential_6 (Sequential)       multiple             2432        input_2[0][0]                    \n",
      "__________________________________________________________________________________________________\n",
      "sequential_8 (Sequential)       (None, 6, 64)        2432        input_3[0][0]                    \n",
      "__________________________________________________________________________________________________\n",
      "dot_1 (Dot)                     (None, 156, 6)       0           sequential_6[2][0]               \n",
      "                                                                 sequential_8[2][0]               \n",
      "__________________________________________________________________________________________________\n",
      "activation_1 (Activation)       (None, 156, 6)       0           dot_1[0][0]                      \n",
      "__________________________________________________________________________________________________\n",
      "sequential_7 (Sequential)       multiple             228         input_2[0][0]                    \n",
      "__________________________________________________________________________________________________\n",
      "add_1 (Add)                     (None, 156, 6)       0           activation_1[0][0]               \n",
      "                                                                 sequential_7[2][0]               \n",
      "__________________________________________________________________________________________________\n",
      "permute_1 (Permute)             (None, 6, 156)       0           add_1[0][0]                      \n",
      "__________________________________________________________________________________________________\n",
      "concatenate_2 (Concatenate)     (None, 6, 220)       0           permute_1[0][0]                  \n",
      "                                                                 sequential_8[2][0]               \n",
      "__________________________________________________________________________________________________\n",
      "lstm_1 (LSTM)                   (None, 32)           32384       concatenate_2[0][0]              \n",
      "__________________________________________________________________________________________________\n",
      "dropout_7 (Dropout)             (None, 32)           0           lstm_1[0][0]                     \n",
      "__________________________________________________________________________________________________\n",
      "dense_1 (Dense)                 (None, 38)           1254        dropout_7[0][0]                  \n",
      "__________________________________________________________________________________________________\n",
      "activation_2 (Activation)       (None, 38)           0           dense_1[0][0]                    \n",
      "==================================================================================================\n",
      "Total params: 38,730\n",
      "Trainable params: 38,730\n",
      "Non-trainable params: 0\n",
      "__________________________________________________________________________________________________\n"
     ]
    }
   ],
   "source": [
    "model.summary()"
   ]
  },
  {
   "cell_type": "code",
   "execution_count": 177,
   "metadata": {},
   "outputs": [],
   "source": [
    "# part 4\n",
    "# train and fit our model\n",
    "# evaluate the model on given test set"
   ]
  },
  {
   "cell_type": "code",
   "execution_count": 179,
   "metadata": {},
   "outputs": [
    {
     "name": "stdout",
     "output_type": "stream",
     "text": [
      "WARNING:tensorflow:From /home/riz04/anaconda3/envs/nlp_course/lib/python3.6/site-packages/tensorflow/python/ops/math_ops.py:3066: to_int32 (from tensorflow.python.ops.math_ops) is deprecated and will be removed in a future version.\n",
      "Instructions for updating:\n",
      "Use tf.cast instead.\n",
      "WARNING:tensorflow:From /home/riz04/anaconda3/envs/nlp_course/lib/python3.6/site-packages/tensorflow/python/ops/math_grad.py:102: div (from tensorflow.python.ops.math_ops) is deprecated and will be removed in a future version.\n",
      "Instructions for updating:\n",
      "Deprecated in favor of operator or tf.math.divide.\n",
      "Train on 10000 samples, validate on 1000 samples\n",
      "Epoch 1/100\n",
      "10000/10000 [==============================] - 10s 961us/step - loss: 0.9342 - acc: 0.4905 - val_loss: 0.6947 - val_acc: 0.4970\n",
      "Epoch 2/100\n",
      "10000/10000 [==============================] - 6s 561us/step - loss: 0.7050 - acc: 0.5007 - val_loss: 0.6950 - val_acc: 0.5030\n",
      "Epoch 3/100\n",
      "10000/10000 [==============================] - 5s 539us/step - loss: 0.6968 - acc: 0.4939 - val_loss: 0.6948 - val_acc: 0.4970\n",
      "Epoch 4/100\n",
      "10000/10000 [==============================] - 5s 547us/step - loss: 0.6950 - acc: 0.5014 - val_loss: 0.6949 - val_acc: 0.5030\n",
      "Epoch 5/100\n",
      "10000/10000 [==============================] - 5s 541us/step - loss: 0.6952 - acc: 0.4918 - val_loss: 0.6936 - val_acc: 0.5030\n",
      "Epoch 6/100\n",
      "10000/10000 [==============================] - 5s 547us/step - loss: 0.6947 - acc: 0.4955 - val_loss: 0.6937 - val_acc: 0.4970\n",
      "Epoch 7/100\n",
      "10000/10000 [==============================] - 5s 545us/step - loss: 0.6941 - acc: 0.5036 - val_loss: 0.6933 - val_acc: 0.5030\n",
      "Epoch 8/100\n",
      "10000/10000 [==============================] - 6s 583us/step - loss: 0.6948 - acc: 0.5056 - val_loss: 0.6971 - val_acc: 0.5030\n",
      "Epoch 9/100\n",
      "10000/10000 [==============================] - 6s 586us/step - loss: 0.6944 - acc: 0.5049 - val_loss: 0.6951 - val_acc: 0.4910\n",
      "Epoch 10/100\n",
      "10000/10000 [==============================] - 6s 584us/step - loss: 0.6943 - acc: 0.5070 - val_loss: 0.6922 - val_acc: 0.4840\n",
      "Epoch 11/100\n",
      "10000/10000 [==============================] - 6s 566us/step - loss: 0.6875 - acc: 0.5330 - val_loss: 0.6846 - val_acc: 0.5040\n",
      "Epoch 12/100\n",
      "10000/10000 [==============================] - 6s 559us/step - loss: 0.6741 - acc: 0.5781 - val_loss: 0.6596 - val_acc: 0.6390\n",
      "Epoch 13/100\n",
      "10000/10000 [==============================] - 6s 584us/step - loss: 0.6500 - acc: 0.6191 - val_loss: 0.6267 - val_acc: 0.6610\n",
      "Epoch 14/100\n",
      "10000/10000 [==============================] - 5s 543us/step - loss: 0.6278 - acc: 0.6510 - val_loss: 0.5945 - val_acc: 0.6940\n",
      "Epoch 15/100\n",
      "10000/10000 [==============================] - 5s 545us/step - loss: 0.5980 - acc: 0.6823 - val_loss: 0.5675 - val_acc: 0.7120\n",
      "Epoch 16/100\n",
      "10000/10000 [==============================] - 5s 545us/step - loss: 0.5729 - acc: 0.7002 - val_loss: 0.5340 - val_acc: 0.7390\n",
      "Epoch 17/100\n",
      "10000/10000 [==============================] - 5s 546us/step - loss: 0.5501 - acc: 0.7128 - val_loss: 0.5306 - val_acc: 0.7220\n",
      "Epoch 18/100\n",
      "10000/10000 [==============================] - 5s 530us/step - loss: 0.5427 - acc: 0.7259 - val_loss: 0.5167 - val_acc: 0.7410\n",
      "Epoch 19/100\n",
      "10000/10000 [==============================] - 5s 532us/step - loss: 0.5163 - acc: 0.7384 - val_loss: 0.4916 - val_acc: 0.7640\n",
      "Epoch 20/100\n",
      "10000/10000 [==============================] - 5s 532us/step - loss: 0.5087 - acc: 0.7514 - val_loss: 0.4812 - val_acc: 0.7690\n",
      "Epoch 21/100\n",
      "10000/10000 [==============================] - 5s 538us/step - loss: 0.4960 - acc: 0.7679 - val_loss: 0.4630 - val_acc: 0.7990\n",
      "Epoch 22/100\n",
      "10000/10000 [==============================] - 5s 540us/step - loss: 0.4843 - acc: 0.7756 - val_loss: 0.4616 - val_acc: 0.7990\n",
      "Epoch 23/100\n",
      "10000/10000 [==============================] - 5s 541us/step - loss: 0.4683 - acc: 0.7887 - val_loss: 0.4632 - val_acc: 0.8000\n",
      "Epoch 24/100\n",
      "10000/10000 [==============================] - 5s 539us/step - loss: 0.4658 - acc: 0.7904 - val_loss: 0.4587 - val_acc: 0.7950\n",
      "Epoch 25/100\n",
      "10000/10000 [==============================] - 5s 536us/step - loss: 0.4515 - acc: 0.8000 - val_loss: 0.4420 - val_acc: 0.8020\n",
      "Epoch 26/100\n",
      "10000/10000 [==============================] - 5s 532us/step - loss: 0.4446 - acc: 0.8015 - val_loss: 0.4536 - val_acc: 0.8010\n",
      "Epoch 27/100\n",
      "10000/10000 [==============================] - 5s 533us/step - loss: 0.4321 - acc: 0.8045 - val_loss: 0.4329 - val_acc: 0.8040\n",
      "Epoch 28/100\n",
      "10000/10000 [==============================] - 5s 536us/step - loss: 0.4319 - acc: 0.8065 - val_loss: 0.4268 - val_acc: 0.8090\n",
      "Epoch 29/100\n",
      "10000/10000 [==============================] - 5s 538us/step - loss: 0.4226 - acc: 0.8146 - val_loss: 0.4142 - val_acc: 0.8090\n",
      "Epoch 30/100\n",
      "10000/10000 [==============================] - 5s 540us/step - loss: 0.4137 - acc: 0.8119 - val_loss: 0.4390 - val_acc: 0.8070\n",
      "Epoch 31/100\n",
      "10000/10000 [==============================] - 5s 540us/step - loss: 0.4126 - acc: 0.8144 - val_loss: 0.4409 - val_acc: 0.8050\n",
      "Epoch 32/100\n",
      "10000/10000 [==============================] - 6s 551us/step - loss: 0.4053 - acc: 0.8246 - val_loss: 0.4289 - val_acc: 0.8080\n",
      "Epoch 33/100\n",
      "10000/10000 [==============================] - 5s 530us/step - loss: 0.3974 - acc: 0.8238 - val_loss: 0.4072 - val_acc: 0.8180\n",
      "Epoch 34/100\n",
      "10000/10000 [==============================] - 5s 528us/step - loss: 0.3928 - acc: 0.8271 - val_loss: 0.3955 - val_acc: 0.8180\n",
      "Epoch 35/100\n",
      "10000/10000 [==============================] - 5s 540us/step - loss: 0.3872 - acc: 0.8322 - val_loss: 0.3908 - val_acc: 0.8200\n",
      "Epoch 36/100\n",
      "10000/10000 [==============================] - 5s 530us/step - loss: 0.3830 - acc: 0.8346 - val_loss: 0.4081 - val_acc: 0.8150\n",
      "Epoch 37/100\n",
      "10000/10000 [==============================] - 6s 551us/step - loss: 0.3807 - acc: 0.8331 - val_loss: 0.3915 - val_acc: 0.8220\n",
      "Epoch 38/100\n",
      "10000/10000 [==============================] - 6s 609us/step - loss: 0.3796 - acc: 0.8342 - val_loss: 0.3851 - val_acc: 0.8180\n",
      "Epoch 39/100\n",
      "10000/10000 [==============================] - 6s 608us/step - loss: 0.3739 - acc: 0.8351 - val_loss: 0.4422 - val_acc: 0.8040\n",
      "Epoch 40/100\n",
      "10000/10000 [==============================] - 6s 612us/step - loss: 0.3722 - acc: 0.8371 - val_loss: 0.4212 - val_acc: 0.8130\n",
      "Epoch 41/100\n",
      "10000/10000 [==============================] - 6s 609us/step - loss: 0.3730 - acc: 0.8364 - val_loss: 0.3941 - val_acc: 0.8180\n",
      "Epoch 42/100\n",
      "10000/10000 [==============================] - 6s 588us/step - loss: 0.3666 - acc: 0.8385 - val_loss: 0.3761 - val_acc: 0.8210\n",
      "Epoch 43/100\n",
      "10000/10000 [==============================] - 6s 570us/step - loss: 0.3646 - acc: 0.8410 - val_loss: 0.4039 - val_acc: 0.8080\n",
      "Epoch 44/100\n",
      "10000/10000 [==============================] - 6s 573us/step - loss: 0.3605 - acc: 0.8415 - val_loss: 0.3835 - val_acc: 0.8190\n",
      "Epoch 45/100\n",
      "10000/10000 [==============================] - 6s 574us/step - loss: 0.3561 - acc: 0.8434 - val_loss: 0.3693 - val_acc: 0.8280\n",
      "Epoch 46/100\n",
      "10000/10000 [==============================] - 6s 594us/step - loss: 0.3566 - acc: 0.8420 - val_loss: 0.3909 - val_acc: 0.8310\n",
      "Epoch 47/100\n",
      "10000/10000 [==============================] - 6s 568us/step - loss: 0.3516 - acc: 0.8449 - val_loss: 0.3986 - val_acc: 0.8180\n",
      "Epoch 48/100\n",
      "10000/10000 [==============================] - 6s 569us/step - loss: 0.3481 - acc: 0.8482 - val_loss: 0.3641 - val_acc: 0.8310\n",
      "Epoch 49/100\n",
      "10000/10000 [==============================] - 6s 574us/step - loss: 0.3441 - acc: 0.8494 - val_loss: 0.3850 - val_acc: 0.8180\n",
      "Epoch 50/100\n",
      "10000/10000 [==============================] - 6s 566us/step - loss: 0.3409 - acc: 0.8509 - val_loss: 0.3730 - val_acc: 0.8340\n",
      "Epoch 51/100\n",
      "10000/10000 [==============================] - 6s 572us/step - loss: 0.3382 - acc: 0.8554 - val_loss: 0.3812 - val_acc: 0.8260\n",
      "Epoch 52/100\n",
      "10000/10000 [==============================] - 6s 571us/step - loss: 0.3388 - acc: 0.8493 - val_loss: 0.3580 - val_acc: 0.8370\n",
      "Epoch 53/100\n",
      "10000/10000 [==============================] - 6s 567us/step - loss: 0.3349 - acc: 0.8538 - val_loss: 0.3766 - val_acc: 0.8430\n",
      "Epoch 54/100\n",
      "10000/10000 [==============================] - 6s 567us/step - loss: 0.3337 - acc: 0.8565 - val_loss: 0.4061 - val_acc: 0.8320\n",
      "Epoch 55/100\n"
     ]
    },
    {
     "name": "stdout",
     "output_type": "stream",
     "text": [
      "10000/10000 [==============================] - 5s 532us/step - loss: 0.3311 - acc: 0.8575 - val_loss: 0.3892 - val_acc: 0.8370\n",
      "Epoch 56/100\n",
      "10000/10000 [==============================] - 5s 532us/step - loss: 0.3308 - acc: 0.8585 - val_loss: 0.3636 - val_acc: 0.8290\n",
      "Epoch 57/100\n",
      "10000/10000 [==============================] - 5s 541us/step - loss: 0.3303 - acc: 0.8587 - val_loss: 0.3601 - val_acc: 0.8350\n",
      "Epoch 58/100\n",
      "10000/10000 [==============================] - 5s 530us/step - loss: 0.3237 - acc: 0.8602 - val_loss: 0.3603 - val_acc: 0.8240\n",
      "Epoch 59/100\n",
      "10000/10000 [==============================] - 5s 531us/step - loss: 0.3245 - acc: 0.8588 - val_loss: 0.3704 - val_acc: 0.8370\n",
      "Epoch 60/100\n",
      "10000/10000 [==============================] - 5s 532us/step - loss: 0.3233 - acc: 0.8625 - val_loss: 0.3662 - val_acc: 0.8290\n",
      "Epoch 61/100\n",
      "10000/10000 [==============================] - 5s 529us/step - loss: 0.3160 - acc: 0.8672 - val_loss: 0.3588 - val_acc: 0.8290\n",
      "Epoch 62/100\n",
      "10000/10000 [==============================] - 5s 535us/step - loss: 0.3245 - acc: 0.8618 - val_loss: 0.3996 - val_acc: 0.8270\n",
      "Epoch 63/100\n",
      "10000/10000 [==============================] - 5s 529us/step - loss: 0.3233 - acc: 0.8636 - val_loss: 0.3575 - val_acc: 0.8340\n",
      "Epoch 64/100\n",
      "10000/10000 [==============================] - 5s 538us/step - loss: 0.3168 - acc: 0.8637 - val_loss: 0.3970 - val_acc: 0.8350\n",
      "Epoch 65/100\n",
      "10000/10000 [==============================] - 5s 535us/step - loss: 0.3159 - acc: 0.8643 - val_loss: 0.3806 - val_acc: 0.8230\n",
      "Epoch 66/100\n",
      "10000/10000 [==============================] - 5s 528us/step - loss: 0.3198 - acc: 0.8621 - val_loss: 0.3940 - val_acc: 0.8290\n",
      "Epoch 67/100\n",
      "10000/10000 [==============================] - 5s 529us/step - loss: 0.3155 - acc: 0.8657 - val_loss: 0.3707 - val_acc: 0.8290\n",
      "Epoch 68/100\n",
      "10000/10000 [==============================] - 5s 533us/step - loss: 0.3155 - acc: 0.8604 - val_loss: 0.3823 - val_acc: 0.8280\n",
      "Epoch 69/100\n",
      "10000/10000 [==============================] - 5s 543us/step - loss: 0.3113 - acc: 0.8694 - val_loss: 0.3664 - val_acc: 0.8360\n",
      "Epoch 70/100\n",
      "10000/10000 [==============================] - 5s 529us/step - loss: 0.3108 - acc: 0.8685 - val_loss: 0.3858 - val_acc: 0.8230\n",
      "Epoch 71/100\n",
      "10000/10000 [==============================] - 5s 531us/step - loss: 0.3112 - acc: 0.8640 - val_loss: 0.3835 - val_acc: 0.8300\n",
      "Epoch 72/100\n",
      "10000/10000 [==============================] - 5s 530us/step - loss: 0.3131 - acc: 0.8688 - val_loss: 0.3898 - val_acc: 0.8270\n",
      "Epoch 73/100\n",
      "10000/10000 [==============================] - 5s 531us/step - loss: 0.3115 - acc: 0.8665 - val_loss: 0.3865 - val_acc: 0.8260\n",
      "Epoch 74/100\n",
      "10000/10000 [==============================] - 5s 530us/step - loss: 0.3035 - acc: 0.8709 - val_loss: 0.3907 - val_acc: 0.8290\n",
      "Epoch 75/100\n",
      "10000/10000 [==============================] - 5s 530us/step - loss: 0.3007 - acc: 0.8728 - val_loss: 0.4018 - val_acc: 0.8280\n",
      "Epoch 76/100\n",
      "10000/10000 [==============================] - 5s 532us/step - loss: 0.3116 - acc: 0.8693 - val_loss: 0.3782 - val_acc: 0.8250\n",
      "Epoch 77/100\n",
      "10000/10000 [==============================] - 5s 529us/step - loss: 0.3064 - acc: 0.8705 - val_loss: 0.4009 - val_acc: 0.8220\n",
      "Epoch 78/100\n",
      "10000/10000 [==============================] - 5s 534us/step - loss: 0.3047 - acc: 0.8711 - val_loss: 0.3844 - val_acc: 0.8320\n",
      "Epoch 79/100\n",
      "10000/10000 [==============================] - 5s 535us/step - loss: 0.3057 - acc: 0.8710 - val_loss: 0.3685 - val_acc: 0.8270\n",
      "Epoch 80/100\n",
      "10000/10000 [==============================] - 6s 585us/step - loss: 0.3049 - acc: 0.8744 - val_loss: 0.4201 - val_acc: 0.8240\n",
      "Epoch 81/100\n",
      "10000/10000 [==============================] - 6s 589us/step - loss: 0.2993 - acc: 0.8706 - val_loss: 0.3932 - val_acc: 0.8160\n",
      "Epoch 82/100\n",
      "10000/10000 [==============================] - 6s 608us/step - loss: 0.2942 - acc: 0.8758 - val_loss: 0.4047 - val_acc: 0.8210\n",
      "Epoch 83/100\n",
      "10000/10000 [==============================] - 6s 586us/step - loss: 0.3024 - acc: 0.8744 - val_loss: 0.3963 - val_acc: 0.8270\n",
      "Epoch 84/100\n",
      "10000/10000 [==============================] - 6s 565us/step - loss: 0.2970 - acc: 0.8743 - val_loss: 0.3903 - val_acc: 0.8290\n",
      "Epoch 85/100\n",
      "10000/10000 [==============================] - 6s 565us/step - loss: 0.3024 - acc: 0.8726 - val_loss: 0.4054 - val_acc: 0.8230\n",
      "Epoch 86/100\n",
      "10000/10000 [==============================] - 6s 560us/step - loss: 0.2951 - acc: 0.8746 - val_loss: 0.3883 - val_acc: 0.8240\n",
      "Epoch 87/100\n",
      "10000/10000 [==============================] - 6s 573us/step - loss: 0.2964 - acc: 0.8774 - val_loss: 0.4160 - val_acc: 0.8270\n",
      "Epoch 88/100\n",
      "10000/10000 [==============================] - 6s 605us/step - loss: 0.3014 - acc: 0.8731 - val_loss: 0.3775 - val_acc: 0.8320\n",
      "Epoch 89/100\n",
      "10000/10000 [==============================] - 6s 605us/step - loss: 0.2885 - acc: 0.8749 - val_loss: 0.4268 - val_acc: 0.8250\n",
      "Epoch 90/100\n",
      "10000/10000 [==============================] - 6s 585us/step - loss: 0.2898 - acc: 0.8816 - val_loss: 0.4236 - val_acc: 0.8170\n",
      "Epoch 91/100\n",
      "10000/10000 [==============================] - 6s 571us/step - loss: 0.2935 - acc: 0.8801 - val_loss: 0.4026 - val_acc: 0.8240\n",
      "Epoch 92/100\n",
      "10000/10000 [==============================] - 6s 565us/step - loss: 0.2930 - acc: 0.8795 - val_loss: 0.4125 - val_acc: 0.8260\n",
      "Epoch 93/100\n",
      "10000/10000 [==============================] - 6s 556us/step - loss: 0.2913 - acc: 0.8827 - val_loss: 0.4160 - val_acc: 0.8130\n",
      "Epoch 94/100\n",
      "10000/10000 [==============================] - 6s 559us/step - loss: 0.2922 - acc: 0.8784 - val_loss: 0.4059 - val_acc: 0.8260\n",
      "Epoch 95/100\n",
      "10000/10000 [==============================] - 6s 562us/step - loss: 0.2866 - acc: 0.8793 - val_loss: 0.4407 - val_acc: 0.8250\n",
      "Epoch 96/100\n",
      "10000/10000 [==============================] - 6s 565us/step - loss: 0.2876 - acc: 0.8796 - val_loss: 0.3955 - val_acc: 0.8240\n",
      "Epoch 97/100\n",
      "10000/10000 [==============================] - 6s 562us/step - loss: 0.2886 - acc: 0.8812 - val_loss: 0.4039 - val_acc: 0.8260\n",
      "Epoch 98/100\n",
      "10000/10000 [==============================] - 6s 568us/step - loss: 0.2836 - acc: 0.8801 - val_loss: 0.4155 - val_acc: 0.8300\n",
      "Epoch 99/100\n",
      "10000/10000 [==============================] - 6s 559us/step - loss: 0.2860 - acc: 0.8800 - val_loss: 0.4022 - val_acc: 0.8290\n",
      "Epoch 100/100\n",
      "10000/10000 [==============================] - 6s 566us/step - loss: 0.2826 - acc: 0.8819 - val_loss: 0.4456 - val_acc: 0.8090\n"
     ]
    }
   ],
   "source": [
    "history = model.fit([inputs_train,questions_train], answers_train,batch_size=32,epochs = 100,validation_data=([inputs_test,questions_test],answers_test))"
   ]
  },
  {
   "cell_type": "code",
   "execution_count": 182,
   "metadata": {},
   "outputs": [
    {
     "name": "stdout",
     "output_type": "stream",
     "text": [
      "dict_keys(['val_loss', 'val_acc', 'loss', 'acc'])\n"
     ]
    },
    {
     "data": {
      "image/png": "[encoded data removed]",
      "text/plain": [
       "<Figure size 432x288 with 1 Axes>"
      ]
     },
     "metadata": {
      "needs_background": "light"
     },
     "output_type": "display_data"
    }
   ],
   "source": [
    "import matplotlib.pyplot as plt\n",
    "%matplotlib inline\n",
    "print(history.history.keys())\n",
    "plt.plot(history.history[\"acc\"])\n",
    "plt.plot(history.history[\"val_acc\"])\n",
    "plt.title(\"model accuracy\")\n",
    "plt.ylabel(\"accuracy\")\n",
    "plt.xlabel(\"epoch\")\n",
    "plt.legend([\"train\",\"test\"],loc = \"upper left\")\n",
    "plt.show()\n"
   ]
  },
  {
   "cell_type": "code",
   "execution_count": 183,
   "metadata": {},
   "outputs": [],
   "source": [
    "filename = \"chatbot_10.h55\"\n",
    "model.save(filename)"
   ]
  },
  {
   "cell_type": "code",
   "execution_count": 184,
   "metadata": {},
   "outputs": [],
   "source": [
    "pred_results = model.predict(([inputs_test,questions_test]))"
   ]
  },
  {
   "cell_type": "code",
   "execution_count": 185,
   "metadata": {},
   "outputs": [
    {
     "data": {
      "text/plain": [
       "(1000, 38)"
      ]
     },
     "execution_count": 185,
     "metadata": {},
     "output_type": "execute_result"
    }
   ],
   "source": [
    "pred_results.shape"
   ]
  },
  {
   "cell_type": "code",
   "execution_count": 186,
   "metadata": {},
   "outputs": [
    {
     "data": {
      "text/plain": [
       "array([4.5173243e-18, 4.1515012e-18, 4.8561896e-18, 5.1949672e-18,\n",
       "       4.1713130e-18, 4.7499614e-18, 5.8911617e-18, 3.9163139e-18,\n",
       "       6.2096449e-18, 9.9997151e-01, 5.7046846e-18, 4.0462148e-18,\n",
       "       5.1981390e-18, 3.4345283e-18, 5.0304501e-18, 5.4378237e-18,\n",
       "       5.2323578e-18, 3.0289727e-18, 5.6664693e-18, 6.2443256e-18,\n",
       "       4.4225555e-18, 5.1834859e-18, 3.7951849e-18, 5.8173325e-18,\n",
       "       3.8956332e-18, 4.3557846e-18, 4.3002126e-18, 2.8438311e-05,\n",
       "       5.9433949e-18, 4.8427219e-18, 6.8474367e-18, 4.0542802e-18,\n",
       "       3.7220634e-18, 5.8724939e-18, 5.3237646e-18, 5.2041307e-18,\n",
       "       4.9210484e-18, 3.9841986e-18], dtype=float32)"
      ]
     },
     "execution_count": 186,
     "metadata": {},
     "output_type": "execute_result"
    }
   ],
   "source": [
    "pred_results[0]"
   ]
  },
  {
   "cell_type": "code",
   "execution_count": 217,
   "metadata": {},
   "outputs": [],
   "source": [
    "# gives index number of highest probaility\n",
    "val_max = np.argmax(pred_results[0]) "
   ]
  },
  {
   "cell_type": "code",
   "execution_count": 218,
   "metadata": {},
   "outputs": [],
   "source": [
    "for key,val in tokenizer.word_index.items():\n",
    "    # and print the key, when val matches highest probability value\n",
    "    if val == val_max:\n",
    "        k = key      "
   ]
  },
  {
   "cell_type": "code",
   "execution_count": 219,
   "metadata": {},
   "outputs": [
    {
     "data": {
      "text/plain": [
       "'no'"
      ]
     },
     "execution_count": 219,
     "metadata": {},
     "output_type": "execute_result"
    }
   ],
   "source": [
    "k"
   ]
  },
  {
   "cell_type": "code",
   "execution_count": 227,
   "metadata": {},
   "outputs": [
    {
     "data": {
      "text/plain": [
       "0.9999715"
      ]
     },
     "execution_count": 227,
     "metadata": {},
     "output_type": "execute_result"
    }
   ],
   "source": [
    "pred_results[0][val_max]"
   ]
  },
  {
   "cell_type": "code",
   "execution_count": 195,
   "metadata": {},
   "outputs": [],
   "source": [
    "# we are going to write our own stories and questions\n",
    "# and run through actual model"
   ]
  },
  {
   "cell_type": "code",
   "execution_count": 196,
   "metadata": {},
   "outputs": [],
   "source": [
    "# we can only use the words which my model is aware of\n",
    "# the ones which are there in the vocab"
   ]
  },
  {
   "cell_type": "code",
   "execution_count": 197,
   "metadata": {},
   "outputs": [],
   "source": [
    "my_story = \"John left the kitchen . Sandra dropped the football in the garden .\""
   ]
  },
  {
   "cell_type": "code",
   "execution_count": 198,
   "metadata": {},
   "outputs": [
    {
     "data": {
      "text/plain": [
       "['John',\n",
       " 'left',\n",
       " 'the',\n",
       " 'kitchen',\n",
       " '.',\n",
       " 'Sandra',\n",
       " 'dropped',\n",
       " 'the',\n",
       " 'football',\n",
       " 'in',\n",
       " 'the',\n",
       " 'garden',\n",
       " '.']"
      ]
     },
     "execution_count": 198,
     "metadata": {},
     "output_type": "execute_result"
    }
   ],
   "source": [
    "my_story.split()"
   ]
  },
  {
   "cell_type": "code",
   "execution_count": 199,
   "metadata": {},
   "outputs": [],
   "source": [
    "my_question = \"Is the football in the garden ?\""
   ]
  },
  {
   "cell_type": "code",
   "execution_count": 200,
   "metadata": {},
   "outputs": [],
   "source": [
    "mydata = [(my_story.split() , my_question.split(),\"yes\")] "
   ]
  },
  {
   "cell_type": "code",
   "execution_count": 201,
   "metadata": {},
   "outputs": [
    {
     "data": {
      "text/plain": [
       "[(['John',\n",
       "   'left',\n",
       "   'the',\n",
       "   'kitchen',\n",
       "   '.',\n",
       "   'Sandra',\n",
       "   'dropped',\n",
       "   'the',\n",
       "   'football',\n",
       "   'in',\n",
       "   'the',\n",
       "   'garden',\n",
       "   '.'],\n",
       "  ['Is', 'the', 'football', 'in', 'the', 'garden', '?'],\n",
       "  'yes')]"
      ]
     },
     "execution_count": 201,
     "metadata": {},
     "output_type": "execute_result"
    }
   ],
   "source": [
    "mydata"
   ]
  },
  {
   "cell_type": "code",
   "execution_count": 220,
   "metadata": {},
   "outputs": [],
   "source": [
    "my_story, my_ques, my_ans = vectorize_stories(mydata)"
   ]
  },
  {
   "cell_type": "code",
   "execution_count": 221,
   "metadata": {},
   "outputs": [],
   "source": [
    "pred_res = model.predict(([my_story,my_ques]))"
   ]
  },
  {
   "cell_type": "code",
   "execution_count": 222,
   "metadata": {},
   "outputs": [],
   "source": [
    "val_max1 = np.argmax(pred_res[0])"
   ]
  },
  {
   "cell_type": "code",
   "execution_count": 223,
   "metadata": {},
   "outputs": [],
   "source": [
    "for key,val in tokenizer.word_index.items():\n",
    "    if val == val_max1:\n",
    "        k = key\n",
    "        "
   ]
  },
  {
   "cell_type": "code",
   "execution_count": 224,
   "metadata": {},
   "outputs": [
    {
     "data": {
      "text/plain": [
       "'yes'"
      ]
     },
     "execution_count": 224,
     "metadata": {},
     "output_type": "execute_result"
    }
   ],
   "source": [
    "k"
   ]
  },
  {
   "cell_type": "code",
   "execution_count": 226,
   "metadata": {},
   "outputs": [
    {
     "data": {
      "text/plain": [
       "0.9793636"
      ]
     },
     "execution_count": 226,
     "metadata": {},
     "output_type": "execute_result"
    }
   ],
   "source": [
    "pred_res[0][val_max1]"
   ]
  },
  {
   "cell_type": "code",
   "execution_count": null,
   "metadata": {},
   "outputs": [],
   "source": []
  }
 ],
 "metadata": {
  "kernelspec": {
   "display_name": "Python 3",
   "language": "python",
   "name": "python3"
  },
  "language_info": {
   "codemirror_mode": {
    "name": "ipython",
    "version": 3
   },
   "file_extension": ".py",
   "mimetype": "text/x-python",
   "name": "python",
   "nbconvert_exporter": "python",
   "pygments_lexer": "ipython3",
   "version": "3.6.8"
  }
 },
 "nbformat": 4,
 "nbformat_minor": 2
}
